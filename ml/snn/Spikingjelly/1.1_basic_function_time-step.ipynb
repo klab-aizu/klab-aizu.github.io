{
 "cells": [
  {
   "cell_type": "markdown",
   "metadata": {},
   "source": [
    "Basic concept: Timestep\n",
    "----\n",
    "\n",
    "The code is run on spikingjelly 0.0.0.13 (Nov 2022). You may want to specify the version to ensure the compatibilities\n"
   ]
  },
  {
   "cell_type": "markdown",
   "metadata": {},
   "source": [
    "## 1. The first concept is to run an activation function\n",
    "\n",
    "In SNN, the activation function is usually a \"comparison\" between current membrane potential (v) and the threshold (v_thh)"
   ]
  },
  {
   "cell_type": "code",
   "execution_count": 1,
   "metadata": {},
   "outputs": [
    {
     "name": "stdout",
     "output_type": "stream",
     "text": [
      "spike = tensor([0., 1., 1., 1., 0., 1., 1., 1.])\n"
     ]
    }
   ],
   "source": [
    "import torch\n",
    "\n",
    "v = torch.rand([8])\n",
    "v_th = 0.5\n",
    "spike = (v >= v_th).to(v)\n",
    "print('spike =', spike)\n",
    "# spike = tensor([0., 0., 0., 1., 1., 0., 1., 0.])"
   ]
  },
  {
   "cell_type": "markdown",
   "metadata": {},
   "source": [
    "## 2. Step mode\n",
    "\n",
    "There are two step mode:\n",
    "\n",
    "1. 'm': multiple timesteps\n",
    "2. 's': single timestep"
   ]
  },
  {
   "cell_type": "code",
   "execution_count": 2,
   "metadata": {},
   "outputs": [],
   "source": [
    "import torch\n",
    "from spikingjelly.activation_based import neuron\n",
    "\n",
    "net = neuron.IFNode(step_mode='m')\n",
    "# 'm' is the multi-step mode\n",
    "net.step_mode = 's'\n",
    "# 's' is the single-step mode\n"
   ]
  },
  {
   "cell_type": "markdown",
   "metadata": {},
   "source": [
    "## 3. Data format\n",
    "\n",
    "In spikingjelly.activation_based, There are two formats of data:\n",
    "\n",
    "1. Data in a single time-step (note: step_mod = 's') with shape = \\[N,*\\], where N is the batch dimension, * represents any extra dimensions.\n",
    "\n",
    "2. Data in many time-steps (note: step_mod = 'm')  with shape = \\[T, N, *\\], where T is the time-step dimension, N is the batch dimension and * represents any additional dimensions.\n"
   ]
  },
  {
   "cell_type": "code",
   "execution_count": 3,
   "metadata": {},
   "outputs": [
    {
     "name": "stdout",
     "output_type": "stream",
     "text": [
      "shape of x: torch.Size([1, 3, 8, 8])\n",
      "shape of y: torch.Size([1, 3, 8, 8])\n",
      "shape of y_seq: torch.Size([4, 1, 3, 8, 8])\n"
     ]
    }
   ],
   "source": [
    "import torch\n",
    "from spikingjelly.activation_based import neuron\n",
    "\n",
    "net_s = neuron.IFNode(step_mode='s')\n",
    "T = 4\n",
    "N = 1\n",
    "C = 3\n",
    "H = 8\n",
    "W = 8\n",
    "x_seq = torch.rand([T, N, C, H, W])\n",
    "y_seq = []\n",
    "for t in range(T):\n",
    "    x = x_seq[t]  # x.shape = [N, C, H, W]\n",
    "    y = net_s(x)  # y.shape = [N, C, H, W]\n",
    "    y_seq.append(y.unsqueeze(0))\n",
    "\n",
    "\n",
    "y_seq = torch.cat(y_seq)\n",
    "# y_seq.shape = [T, N, C, H, W]\n",
    "\n",
    "print(\"shape of x: \"+str(x.shape))\n",
    "print(\"shape of y: \"+str(y.shape))\n",
    "print(\"shape of y_seq: \"+str(y_seq.shape))"
   ]
  },
  {
   "cell_type": "markdown",
   "metadata": {},
   "source": [
    "In the previous example, we have a:\n",
    "1. ```net_s```: a simple IF node that receives the weighted spikes (x) and results spikes (y). Note that we are in single time-step mode (step_mode=`s`)\n",
    "2. T = 4 is the number of time-steps\n",
    "3. N = 1 is the batch size\n",
    "4. \\[C, H, W \\] is the shape of a single time-step input\n",
    "\n",
    "As we run in a loop of t in range(T), we feed x into the net_s and get y.\n",
    "\n",
    "\n",
    "\n"
   ]
  },
  {
   "cell_type": "code",
   "execution_count": 4,
   "metadata": {
    "scrolled": true
   },
   "outputs": [
    {
     "name": "stdout",
     "output_type": "stream",
     "text": [
      "tensor([[[[0.5071, 0.7052, 0.4534, 0.5574, 0.8354, 0.0320, 0.3970, 0.0040],\n",
      "          [0.0341, 0.7944, 0.1181, 0.4376, 0.3779, 0.8777, 0.2491, 0.6237],\n",
      "          [0.7391, 0.2109, 0.6843, 0.0922, 0.4819, 0.7587, 0.9131, 0.4688],\n",
      "          [0.8240, 0.9039, 0.1107, 0.3576, 0.0064, 0.5205, 0.3281, 0.1259],\n",
      "          [0.7636, 0.7522, 0.2319, 0.6788, 0.3135, 0.5233, 0.9580, 0.0841],\n",
      "          [0.3263, 0.9880, 0.5973, 0.7657, 0.2332, 0.7054, 0.0202, 0.4270],\n",
      "          [0.1711, 0.9571, 0.7265, 0.7625, 0.2239, 0.9089, 0.0328, 0.9163],\n",
      "          [0.5642, 0.7324, 0.1692, 0.1965, 0.4641, 0.4657, 0.4648, 0.4485]],\n",
      "\n",
      "         [[0.6333, 0.1055, 0.9311, 0.8106, 0.6487, 0.7959, 0.9775, 0.3199],\n",
      "          [0.5284, 0.5761, 0.0359, 0.6869, 0.3350, 0.2341, 0.4242, 0.7159],\n",
      "          [0.6498, 0.2764, 0.0762, 0.5623, 0.9301, 0.2080, 0.4853, 0.6036],\n",
      "          [0.5455, 0.4864, 0.0172, 0.0084, 0.9250, 0.8343, 0.4295, 0.2044],\n",
      "          [0.3006, 0.5396, 0.0617, 0.4584, 0.4168, 0.3356, 0.2164, 0.1618],\n",
      "          [0.8284, 0.0438, 0.0296, 0.4799, 0.4074, 0.5929, 0.6915, 0.2792],\n",
      "          [0.3547, 0.5994, 0.1870, 0.3220, 0.8457, 0.2025, 0.5216, 0.3084],\n",
      "          [0.0292, 0.2866, 0.8922, 0.1736, 0.0558, 0.0236, 0.5363, 0.7022]],\n",
      "\n",
      "         [[0.1433, 0.6301, 0.4123, 0.2118, 0.1265, 0.6710, 0.7372, 0.5905],\n",
      "          [0.8585, 0.7817, 0.4795, 0.3517, 0.9248, 0.9025, 0.9228, 0.2280],\n",
      "          [0.5995, 0.0494, 0.4714, 0.1228, 0.1717, 0.8675, 0.4716, 0.3022],\n",
      "          [0.7999, 0.9959, 0.5628, 0.7313, 0.8345, 0.1143, 0.7155, 0.5296],\n",
      "          [0.1708, 0.3861, 0.6464, 0.2652, 0.7451, 0.9127, 0.5836, 0.0626],\n",
      "          [0.6321, 0.1883, 0.5112, 0.1522, 0.2726, 0.8899, 0.4723, 0.6646],\n",
      "          [0.8248, 0.5650, 0.4669, 0.5491, 0.5751, 0.6871, 0.5082, 0.5689],\n",
      "          [0.1557, 0.7804, 0.1265, 0.2310, 0.2390, 0.0982, 0.0483, 0.7403]]]])\n"
     ]
    }
   ],
   "source": [
    "print(x) #last value of x"
   ]
  },
  {
   "cell_type": "code",
   "execution_count": 5,
   "metadata": {},
   "outputs": [
    {
     "name": "stdout",
     "output_type": "stream",
     "text": [
      "tensor([[[[0., 0., 0., 1., 1., 0., 0., 0.],\n",
      "          [0., 0., 0., 1., 0., 1., 0., 0.],\n",
      "          [0., 0., 1., 1., 1., 0., 1., 1.],\n",
      "          [0., 1., 0., 0., 0., 0., 0., 0.],\n",
      "          [0., 1., 0., 0., 0., 0., 1., 0.],\n",
      "          [0., 1., 1., 1., 1., 1., 0., 0.],\n",
      "          [0., 1., 1., 0., 1., 1., 1., 1.],\n",
      "          [0., 1., 0., 0., 0., 0., 0., 0.]],\n",
      "\n",
      "         [[1., 0., 1., 0., 0., 1., 1., 0.],\n",
      "          [1., 0., 0., 0., 0., 0., 0., 1.],\n",
      "          [1., 0., 0., 0., 1., 0., 1., 0.],\n",
      "          [0., 0., 0., 0., 1., 1., 0., 0.],\n",
      "          [1., 1., 0., 0., 1., 1., 1., 1.],\n",
      "          [1., 0., 0., 1., 0., 1., 1., 0.],\n",
      "          [0., 0., 0., 1., 0., 0., 1., 1.],\n",
      "          [0., 0., 1., 0., 0., 0., 1., 1.]],\n",
      "\n",
      "         [[0., 1., 0., 0., 0., 0., 0., 0.],\n",
      "          [1., 0., 0., 0., 1., 0., 0., 0.],\n",
      "          [1., 0., 0., 0., 0., 1., 0., 1.],\n",
      "          [1., 1., 0., 1., 1., 0., 1., 1.],\n",
      "          [0., 0., 0., 0., 0., 1., 0., 0.],\n",
      "          [0., 0., 0., 0., 1., 1., 1., 1.],\n",
      "          [0., 0., 1., 0., 1., 0., 0., 0.],\n",
      "          [0., 1., 0., 0., 0., 0., 0., 1.]]]])\n"
     ]
    }
   ],
   "source": [
    "print(y) # last value of y"
   ]
  },
  {
   "cell_type": "markdown",
   "metadata": {},
   "source": [
    "## 3. Multiple time-step\n",
    "\n",
    "With the above example, we can rewrite to run multiple timesteps\n",
    "\n",
    "The first way to write is to use functional.multi_step_forward\n"
   ]
  },
  {
   "cell_type": "code",
   "execution_count": 6,
   "metadata": {},
   "outputs": [],
   "source": [
    "import torch\n",
    "from spikingjelly.activation_based import neuron, functional\n",
    "net_s = neuron.IFNode(step_mode='s')\n",
    "\n",
    "y_seq = functional.multi_step_forward(x_seq, net_s)"
   ]
  },
  {
   "cell_type": "code",
   "execution_count": 7,
   "metadata": {},
   "outputs": [
    {
     "name": "stdout",
     "output_type": "stream",
     "text": [
      "tensor([[[[0., 0., 0., 1., 1., 0., 0., 0.],\n",
      "          [0., 0., 0., 1., 0., 1., 0., 0.],\n",
      "          [0., 0., 1., 1., 1., 0., 1., 1.],\n",
      "          [0., 1., 0., 0., 0., 0., 0., 0.],\n",
      "          [0., 1., 0., 0., 0., 0., 1., 0.],\n",
      "          [0., 1., 1., 1., 1., 1., 0., 0.],\n",
      "          [0., 1., 1., 0., 1., 1., 1., 1.],\n",
      "          [0., 1., 0., 0., 0., 0., 0., 0.]],\n",
      "\n",
      "         [[1., 0., 1., 0., 0., 1., 1., 0.],\n",
      "          [1., 0., 0., 0., 0., 0., 0., 1.],\n",
      "          [1., 0., 0., 0., 1., 0., 1., 0.],\n",
      "          [0., 0., 0., 0., 1., 1., 0., 0.],\n",
      "          [1., 1., 0., 0., 1., 1., 1., 1.],\n",
      "          [1., 0., 0., 1., 0., 1., 1., 0.],\n",
      "          [0., 0., 0., 1., 0., 0., 1., 1.],\n",
      "          [0., 0., 1., 0., 0., 0., 1., 1.]],\n",
      "\n",
      "         [[0., 1., 0., 0., 0., 0., 0., 0.],\n",
      "          [1., 0., 0., 0., 1., 0., 0., 0.],\n",
      "          [1., 0., 0., 0., 0., 1., 0., 1.],\n",
      "          [1., 1., 0., 1., 1., 0., 1., 1.],\n",
      "          [0., 0., 0., 0., 0., 1., 0., 0.],\n",
      "          [0., 0., 0., 0., 1., 1., 1., 1.],\n",
      "          [0., 0., 1., 0., 1., 0., 0., 0.],\n",
      "          [0., 1., 0., 0., 0., 0., 0., 1.]]]])\n"
     ]
    }
   ],
   "source": [
    "print(y_seq[-1]) # last value of y"
   ]
  },
  {
   "cell_type": "markdown",
   "metadata": {},
   "source": [
    "The second way is to use multple time-step modes "
   ]
  },
  {
   "cell_type": "code",
   "execution_count": 8,
   "metadata": {},
   "outputs": [],
   "source": [
    "import torch\n",
    "from spikingjelly.activation_based import neuron\n",
    "\n",
    "net_m = neuron.IFNode(step_mode='m')\n",
    "\n",
    "y_seq = net_m(x_seq)\n",
    "# y_seq.shape = [T, N, C, H, W]"
   ]
  },
  {
   "cell_type": "code",
   "execution_count": 9,
   "metadata": {},
   "outputs": [
    {
     "name": "stdout",
     "output_type": "stream",
     "text": [
      "tensor([[[[0., 0., 0., 1., 1., 0., 0., 0.],\n",
      "          [0., 0., 0., 1., 0., 1., 0., 0.],\n",
      "          [0., 0., 1., 1., 1., 0., 1., 1.],\n",
      "          [0., 1., 0., 0., 0., 0., 0., 0.],\n",
      "          [0., 1., 0., 0., 0., 0., 1., 0.],\n",
      "          [0., 1., 1., 1., 1., 1., 0., 0.],\n",
      "          [0., 1., 1., 0., 1., 1., 1., 1.],\n",
      "          [0., 1., 0., 0., 0., 0., 0., 0.]],\n",
      "\n",
      "         [[1., 0., 1., 0., 0., 1., 1., 0.],\n",
      "          [1., 0., 0., 0., 0., 0., 0., 1.],\n",
      "          [1., 0., 0., 0., 1., 0., 1., 0.],\n",
      "          [0., 0., 0., 0., 1., 1., 0., 0.],\n",
      "          [1., 1., 0., 0., 1., 1., 1., 1.],\n",
      "          [1., 0., 0., 1., 0., 1., 1., 0.],\n",
      "          [0., 0., 0., 1., 0., 0., 1., 1.],\n",
      "          [0., 0., 1., 0., 0., 0., 1., 1.]],\n",
      "\n",
      "         [[0., 1., 0., 0., 0., 0., 0., 0.],\n",
      "          [1., 0., 0., 0., 1., 0., 0., 0.],\n",
      "          [1., 0., 0., 0., 0., 1., 0., 1.],\n",
      "          [1., 1., 0., 1., 1., 0., 1., 1.],\n",
      "          [0., 0., 0., 0., 0., 1., 0., 0.],\n",
      "          [0., 0., 0., 0., 1., 1., 1., 1.],\n",
      "          [0., 0., 1., 0., 1., 0., 0., 0.],\n",
      "          [0., 1., 0., 0., 0., 0., 0., 1.]]]])\n"
     ]
    }
   ],
   "source": [
    "print(y_seq[-1]) # last value of y"
   ]
  },
  {
   "cell_type": "code",
   "execution_count": null,
   "metadata": {},
   "outputs": [],
   "source": []
  }
 ],
 "metadata": {
  "kernelspec": {
   "display_name": "Python 3",
   "language": "python",
   "name": "python3"
  },
  "language_info": {
   "codemirror_mode": {
    "name": "ipython",
    "version": 3
   },
   "file_extension": ".py",
   "mimetype": "text/x-python",
   "name": "python",
   "nbconvert_exporter": "python",
   "pygments_lexer": "ipython3",
   "version": "3.6.3"
  },
  "vscode": {
   "interpreter": {
    "hash": "b54fd4f20524ac8eab64e1ae08061fa307b5cb6f2716856472c02a28a5143bb3"
   }
  }
 },
 "nbformat": 4,
 "nbformat_minor": 2
}
