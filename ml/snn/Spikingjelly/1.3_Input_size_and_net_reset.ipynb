{
 "cells": [
  {
   "cell_type": "markdown",
   "id": "03facd55",
   "metadata": {},
   "source": [
    "# 1.3 Input size and network reset\n",
    "\n",
    "The spikingjelly network will adapt to the input size.\n",
    "To feed different input size, you can reset the network"
   ]
  },
  {
   "cell_type": "code",
   "execution_count": 1,
   "id": "2391ca99",
   "metadata": {},
   "outputs": [
    {
     "name": "stdout",
     "output_type": "stream",
     "text": [
      "check point 0: v=0.0\n",
      "check point 1: v=tensor([0.3410, 0.4485, 0.8642, 0.2167])\n",
      "check point 2: v=0.0\n",
      "check point 3: v=tensor([0.5626, 0.6299, 0.0292, 0.8886, 0.9804, 0.6373, 0.4256, 0.2768])\n"
     ]
    }
   ],
   "source": [
    "import torch\n",
    "from spikingjelly.activation_based import neuron\n",
    "\n",
    "net_s = neuron.IFNode(step_mode='s')\n",
    "x = torch.rand([4])\n",
    "print(f'check point 0: v={net_s.v}')\n",
    "y = net_s(x)\n",
    "print(f'check point 1: v={net_s.v}')\n",
    "net_s.reset()\n",
    "print(f'check point 2: v={net_s.v}')\n",
    "x = torch.rand([8])\n",
    "y = net_s(x)\n",
    "print(f'check point 3: v={net_s.v}')\n"
   ]
  },
  {
   "cell_type": "markdown",
   "id": "26c7854c",
   "metadata": {},
   "source": [
    "As you can see, once the input is a set of 4 values, the voltage values are duplicated into 4 value.\n",
    "\n",
    "After reseting, the voltage value return to the original shape\n",
    "\n",
    "To reset the whole network, we can use ``spikingjelly.activation_based.functional.reset_net ``"
   ]
  },
  {
   "cell_type": "code",
   "execution_count": 2,
   "id": "1158e358",
   "metadata": {},
   "outputs": [
    {
     "name": "stdout",
     "output_type": "stream",
     "text": [
      "check point 4: v=0.0\n"
     ]
    }
   ],
   "source": [
    "from spikingjelly.activation_based import functional\n",
    "\n",
    "functional.reset_net(net_s)\n",
    "print(f'check point 4: v={net_s.v}')\n"
   ]
  },
  {
   "cell_type": "code",
   "execution_count": null,
   "id": "4f238672",
   "metadata": {},
   "outputs": [],
   "source": []
  }
 ],
 "metadata": {
  "kernelspec": {
   "display_name": "Python 3",
   "language": "python",
   "name": "python3"
  },
  "language_info": {
   "codemirror_mode": {
    "name": "ipython",
    "version": 3
   },
   "file_extension": ".py",
   "mimetype": "text/x-python",
   "name": "python",
   "nbconvert_exporter": "python",
   "pygments_lexer": "ipython3",
   "version": "3.6.3"
  }
 },
 "nbformat": 4,
 "nbformat_minor": 5
}
