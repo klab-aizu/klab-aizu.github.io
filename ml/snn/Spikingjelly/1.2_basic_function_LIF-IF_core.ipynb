{
 "cells": [
  {
   "cell_type": "markdown",
   "id": "640926ac",
   "metadata": {},
   "source": [
    "# 1.2 Basic function: LIF/IF neuron\n",
    "\n",
    "In this session, we take a look at IF neuron. For the ease of understand, we only see the single time step.\n",
    "\n",
    "In IF neuron, the membrane potential will be stored as the state of the neuron and it will accumulated.\n",
    "\n",
    "## IF Neuron"
   ]
  },
  {
   "cell_type": "code",
   "execution_count": 2,
   "id": "d336cec3",
   "metadata": {},
   "outputs": [
    {
     "name": "stdout",
     "output_type": "stream",
     "text": [
      "IFNode(\n",
      "  v_threshold=1.0, v_reset=0.0, detach_reset=False, step_mode=s, backend=torch\n",
      "  (surrogate_function): Sigmoid(alpha=4.0, spiking=True)\n",
      ")\n",
      "the initial v=0.0\n",
      "x=tensor([0.7796, 0.0084, 0.8905, 0.0548])\n",
      "y=tensor([0., 0., 0., 0.])\n",
      "v=tensor([0.7796, 0.0084, 0.8905, 0.0548])\n"
     ]
    }
   ],
   "source": [
    "import torch\n",
    "from spikingjelly.activation_based import neuron\n",
    "\n",
    "net_IF_s = neuron.IFNode(step_mode='s')\n",
    "x = torch.rand([4])\n",
    "print(net_IF_s)\n",
    "print(f'the initial v={net_IF_s.v}')\n",
    "y = net_IF_s(x)\n",
    "print(f'x={x}')\n",
    "print(f'y={y}')\n",
    "print(f'v={net_IF_s.v}')\n"
   ]
  },
  {
   "cell_type": "markdown",
   "id": "481bb513",
   "metadata": {},
   "source": [
    "As in the example, the threhold is 1.0 and the weighted inputs x is below 1. \n",
    "The weighted input will be accumulated to v\n",
    "\n",
    "$v(t) = x(t) + v(t-1)$\n",
    "\n",
    "Then, let's feed one more weighted inputs:"
   ]
  },
  {
   "cell_type": "code",
   "execution_count": 3,
   "id": "80a29b59",
   "metadata": {},
   "outputs": [
    {
     "name": "stdout",
     "output_type": "stream",
     "text": [
      "x=tensor([0.7796, 0.0084, 0.8905, 0.0548])\n",
      "y=tensor([1., 0., 1., 0.])\n",
      "v=tensor([0.0000, 0.0167, 0.0000, 0.1096])\n"
     ]
    }
   ],
   "source": [
    "y = net_IF_s(x)\n",
    "print(f'x={x}')\n",
    "print(f'y={y}')\n",
    "print(f'v={net_IF_s.v}')"
   ]
  },
  {
   "cell_type": "markdown",
   "id": "f85dce26",
   "metadata": {},
   "source": [
    "As v accumulates x, its value can reach above the threshold\n",
    "\n",
    "$ y = 1 $ if $ v >= v_{th}$ otherwise $y = 0$\n",
    "\n",
    "Once the neuron fires, it voltage drop to zero (v_reset)\n",
    "\n",
    "$ v = 0$ if $y=1$"
   ]
  },
  {
   "cell_type": "markdown",
   "id": "769f77cf",
   "metadata": {},
   "source": [
    "## LIF neuron\n",
    "\n",
    "The difference in LIF neurons is they have leaky. Although the model in spikingjelly is quite difference\n"
   ]
  },
  {
   "cell_type": "code",
   "execution_count": 4,
   "id": "c868483f",
   "metadata": {},
   "outputs": [
    {
     "name": "stdout",
     "output_type": "stream",
     "text": [
      "LIFNode(\n",
      "  v_threshold=1.0, v_reset=0.0, detach_reset=False, step_mode=s, backend=torch, tau=2.0\n",
      "  (surrogate_function): Sigmoid(alpha=4.0, spiking=True)\n",
      ")\n"
     ]
    }
   ],
   "source": [
    "net_LIF_s = neuron.LIFNode(step_mode='s')\n",
    "print(net_LIF_s)\n"
   ]
  },
  {
   "cell_type": "code",
   "execution_count": 5,
   "id": "08abf40a",
   "metadata": {},
   "outputs": [
    {
     "name": "stdout",
     "output_type": "stream",
     "text": [
      "x=tensor([0.7796, 0.0084, 0.8905, 0.0548])\n",
      "y=tensor([0., 0., 0., 0.])\n",
      "v=tensor([0.3898, 0.0042, 0.4452, 0.0274])\n"
     ]
    }
   ],
   "source": [
    "y = net_LIF_s(x)\n",
    "print(f'x={x}')\n",
    "print(f'y={y}')\n",
    "print(f'v={net_LIF_s.v}')"
   ]
  },
  {
   "cell_type": "markdown",
   "id": "0340d535",
   "metadata": {},
   "source": [
    "Note ``decay_input = True`` by default\n",
    "\n",
    "if ``decay_input == True``:\n",
    "           $ V[t] = V[t-1] + \\frac{1}{\\tau}(X[t] - (V[t-1] - V_{reset})) $\n",
    "           \n",
    "if ``decay_input == False``:\n",
    "           $ V[t] = V[t-1] - \\frac{1}{\\tau}(V[t-1] - V_{reset}) + X[t] $\n"
   ]
  },
  {
   "cell_type": "code",
   "execution_count": null,
   "id": "a6bb976f",
   "metadata": {},
   "outputs": [],
   "source": []
  }
 ],
 "metadata": {
  "kernelspec": {
   "display_name": "Python 3.10.8 64-bit",
   "language": "python",
   "name": "python3"
  },
  "language_info": {
   "codemirror_mode": {
    "name": "ipython",
    "version": 3
   },
   "file_extension": ".py",
   "mimetype": "text/x-python",
   "name": "python",
   "nbconvert_exporter": "python",
   "pygments_lexer": "ipython3",
   "version": "3.10.8"
  },
  "vscode": {
   "interpreter": {
    "hash": "b0fa6594d8f4cbf19f97940f81e996739fb7646882a419484c72d19e05852a7e"
   }
  }
 },
 "nbformat": 4,
 "nbformat_minor": 5
}
